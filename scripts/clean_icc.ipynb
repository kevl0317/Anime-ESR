{
 "cells": [
  {
   "cell_type": "code",
   "execution_count": 23,
   "id": "d6d3a423",
   "metadata": {},
   "outputs": [],
   "source": [
    "from PIL import Image\n",
    "import os\n",
    "import matplotlib.pyplot as plt\n",
    "import cv2\n",
    "from tqdm import tqdm\n",
    "import shutil\n",
    "\n",
    "def strip_iccp(png_path, save_path):\n",
    "    with Image.open(png_path) as img:\n",
    "        temp_path = save_path + \".tmp\"\n",
    "        img.save(temp_path, format=\"PNG\", icc_profile=None)\n",
    "    shutil.move(temp_path, save_path)\n",
    "    print(temp_path, save_path)\n"
   ]
  },
  {
   "cell_type": "code",
   "execution_count": 24,
   "id": "04eaece0",
   "metadata": {},
   "outputs": [],
   "source": [
    "def has_iccp_chunk(path):\n",
    "    with open(path, \"rb\") as f:\n",
    "        data = f.read()\n",
    "\n",
    "    # PNG chunks start after 8-byte signature\n",
    "    pos = 8\n",
    "    while pos < len(data):\n",
    "        length = int.from_bytes(data[pos:pos+4], 'big')\n",
    "        chunk_type = data[pos+4:pos+8]\n",
    "        if chunk_type == b\"iCCP\":\n",
    "            return True\n",
    "        pos += length + 12  # 4 (length) + 4 (chunk type) + data + 4 (CRC)\n",
    "    return False"
   ]
  },
  {
   "cell_type": "code",
   "execution_count": 37,
   "id": "5a258b61",
   "metadata": {},
   "outputs": [
    {
     "name": "stderr",
     "output_type": "stream",
     "text": [
      "100%|██████████| 41178/41178 [00:00<00:00, 4838984.93it/s]\n"
     ]
    }
   ],
   "source": [
    "folder = \"../datasets/anime/illustrateData_multiscale_sub\"\n",
    "\n",
    "for file in tqdm(os.listdir(folder)):\n",
    "    if not file.endswith(\".jpg\"):\n",
    "        continue\n",
    "    path = os.path.join(folder, file)\n",
    "    if has_iccp_chunk(path):\n",
    "        print(f\"⚠️ iCCP found in: {file} — stripping\")\n",
    "        strip_iccp(path, path)\n",
    "        if not has_iccp_chunk(path):\n",
    "            print(f\"✅ Cleaned: {file}\")\n",
    "        else:\n",
    "            print(f\"❌ Still contains iCCP: {file}\")\n"
   ]
  }
 ],
 "metadata": {
  "kernelspec": {
   "display_name": "esr",
   "language": "python",
   "name": "python3"
  },
  "language_info": {
   "codemirror_mode": {
    "name": "ipython",
    "version": 3
   },
   "file_extension": ".py",
   "mimetype": "text/x-python",
   "name": "python",
   "nbconvert_exporter": "python",
   "pygments_lexer": "ipython3",
   "version": "3.10.16"
  }
 },
 "nbformat": 4,
 "nbformat_minor": 5
}
