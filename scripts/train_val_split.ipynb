{
 "cells": [
  {
   "cell_type": "code",
   "execution_count": 1,
   "id": "56ea3d71",
   "metadata": {},
   "outputs": [],
   "source": [
    "import os\n",
    "import shutil\n",
    "import random\n",
    "from pathlib import Path"
   ]
  },
  {
   "cell_type": "code",
   "execution_count": 7,
   "id": "e8dd20f1",
   "metadata": {},
   "outputs": [],
   "source": [
    "def split_dataset(input_dir, output_dir, val_ratio=0.1, seed=42):\n",
    "    \"\"\"\n",
    "    Splits files in `input_dir` into `train` and `val` folders inside `output_dir`.\n",
    "\n",
    "    Args:\n",
    "        input_dir (str or Path): Path to the folder containing files to split.\n",
    "        output_dir (str or Path): Destination root folder for `train` and `val` subfolders.\n",
    "        val_ratio (float): Fraction of files to use for validation (default 0.1).\n",
    "        seed (int): Random seed for reproducibility.\n",
    "    \"\"\"\n",
    "    input_dir = Path(input_dir)\n",
    "    output_dir = Path(output_dir)\n",
    "    train_dir = output_dir / \"train\"\n",
    "    val_dir = output_dir / \"val\"\n",
    "\n",
    "    # Create output directories\n",
    "    train_dir.mkdir(parents=True, exist_ok=True)\n",
    "    val_dir.mkdir(parents=True, exist_ok=True)\n",
    "\n",
    "    # List files\n",
    "    files = [f for f in input_dir.iterdir() if f.is_file()]\n",
    "    random.seed(seed)\n",
    "    random.shuffle(files)\n",
    "\n",
    "    val_count = int(len(files) * val_ratio)\n",
    "    val_files = files[:val_count]\n",
    "    train_files = files[val_count:]\n",
    "\n",
    "    # Copy files\n",
    "    for f in train_files:\n",
    "        shutil.move(f, train_dir / f.name)\n",
    "    for f in val_files:\n",
    "        shutil.move(f, val_dir / f.name)\n",
    "\n",
    "    print(f\"Split complete: {len(train_files)} train / {len(val_files)} val\")"
   ]
  },
  {
   "cell_type": "code",
   "execution_count": 8,
   "id": "b7958910",
   "metadata": {},
   "outputs": [
    {
     "name": "stdout",
     "output_type": "stream",
     "text": [
      "Split complete: 4399 train / 488 val\n"
     ]
    }
   ],
   "source": [
    "# Example usage\n",
    "split_dataset(\n",
    "    input_dir=\"../datasets/anime/galData\",\n",
    "    output_dir=\"../datasets/anime/galData_val\",\n",
    "    val_ratio=0.1\n",
    ")"
   ]
  },
  {
   "cell_type": "code",
   "execution_count": 9,
   "id": "577c9a9b",
   "metadata": {},
   "outputs": [
    {
     "name": "stdout",
     "output_type": "stream",
     "text": [
      "Split complete: 503 train / 55 val\n"
     ]
    }
   ],
   "source": [
    "# Example usage\n",
    "split_dataset(\n",
    "    input_dir=\"../datasets/anime/frameData\",\n",
    "    output_dir=\"../datasets/anime/frameData_val\",\n",
    "    val_ratio=0.1\n",
    ")"
   ]
  },
  {
   "cell_type": "code",
   "execution_count": 10,
   "id": "30b9432d",
   "metadata": {},
   "outputs": [
    {
     "name": "stdout",
     "output_type": "stream",
     "text": [
      "Split complete: 694 train / 77 val\n"
     ]
    }
   ],
   "source": [
    "# Example usage\n",
    "split_dataset(\n",
    "    input_dir=\"../datasets/anime/illustrateData\",\n",
    "    output_dir=\"../datasets/anime/illustrateData_val\",\n",
    "    val_ratio=0.1\n",
    ")"
   ]
  }
 ],
 "metadata": {
  "kernelspec": {
   "display_name": "esr",
   "language": "python",
   "name": "python3"
  },
  "language_info": {
   "codemirror_mode": {
    "name": "ipython",
    "version": 3
   },
   "file_extension": ".py",
   "mimetype": "text/x-python",
   "name": "python",
   "nbconvert_exporter": "python",
   "pygments_lexer": "ipython3",
   "version": "3.10.16"
  }
 },
 "nbformat": 4,
 "nbformat_minor": 5
}
